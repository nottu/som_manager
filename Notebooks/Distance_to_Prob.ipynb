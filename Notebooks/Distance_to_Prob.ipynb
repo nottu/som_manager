{
 "cells": [
  {
   "cell_type": "markdown",
   "metadata": {},
   "source": [
    "# Distance to likelihood\n",
    "\n",
    "A quick test script to see how to go from a distance to likelihood"
   ]
  },
  {
   "cell_type": "code",
   "execution_count": 18,
   "metadata": {},
   "outputs": [
    {
     "name": "stderr",
     "output_type": "stream",
     "text": [
      "/anaconda3/lib/python3.6/site-packages/matplotlib/figure.py:418: UserWarning: matplotlib is currently using a non-GUI backend, so cannot show the figure\n",
      "  \"matplotlib is currently using a non-GUI backend, \"\n"
     ]
    },
    {
     "data": {
      "image/png": "[encoded data removed]",
      "text/plain": [
       "<matplotlib.figure.Figure at 0x119544a58>"
      ]
     },
     "metadata": {},
     "output_type": "display_data"
    }
   ],
   "source": [
    "%matplotlib inline\n",
    "import numpy as np\n",
    "import matplotlib.pyplot as plt\n",
    "from mpl_toolkits.axes_grid1 import make_axes_locatable\n",
    "\n",
    "data = np.random.uniform(0, 234, size=20).reshape(5,4)\n",
    "prob = 1. / data**2.\n",
    "prob = prob / prob.sum()\n",
    "\n",
    "fig, (ax0, ax1) = plt.subplots(1,2)\n",
    "\n",
    "im = ax0.imshow(data)\n",
    "divider = make_axes_locatable(ax0)\n",
    "cax0 = divider.append_axes('right', size='5%', pad=0.05)\n",
    "fig.colorbar(im, cax=cax0, label='Distance (Lower is better)')\n",
    "\n",
    "im = ax1.imshow(prob)\n",
    "divider = make_axes_locatable(ax1)\n",
    "cax1 = divider.append_axes('right', size='5%', pad=0.05)\n",
    "fig.colorbar(im, cax=cax1, label='Probability (Higher is Better)')\n",
    "\n",
    "fig.tight_layout()\n",
    "fig.show()\n",
    "# print(prob)"
   ]
  },
  {
   "cell_type": "code",
   "execution_count": 19,
   "metadata": {},
   "outputs": [],
   "source": [
    "x, y = np.meshgrid(range(prob.shape[0]),range(prob.shape[1]) )\n",
    "xy = np.array([x,y])"
   ]
  },
  {
   "cell_type": "code",
   "execution_count": 20,
   "metadata": {},
   "outputs": [],
   "source": [
    "from collections import defaultdict\n",
    "\n",
    "a = defaultdict(int)\n",
    "\n",
    "for _ in range(1000):\n",
    "    rand_pos = np.random.choice(range(np.prod(prob.shape)), p=prob.flatten())\n",
    "    x = rand_pos // prob.shape[0]\n",
    "    y = rand_pos % prob.shape[1]\n",
    "    a[(x,y)] += 1"
   ]
  },
  {
   "cell_type": "code",
   "execution_count": 21,
   "metadata": {},
   "outputs": [],
   "source": [
    "loc = np.unravel_index(np.argmin(data, axis=None), prob.shape)"
   ]
  },
  {
   "cell_type": "code",
   "execution_count": 22,
   "metadata": {},
   "outputs": [
    {
     "data": {
      "text/plain": [
       "(3, 1)"
      ]
     },
     "execution_count": 22,
     "metadata": {},
     "output_type": "execute_result"
    }
   ],
   "source": [
    "loc"
   ]
  },
  {
   "cell_type": "code",
   "execution_count": 23,
   "metadata": {},
   "outputs": [
    {
     "data": {
      "text/plain": [
       "defaultdict(int,\n",
       "            {(0, 0): 2,\n",
       "             (0, 1): 11,\n",
       "             (0, 2): 6,\n",
       "             (0, 3): 3,\n",
       "             (1, 0): 9,\n",
       "             (1, 1): 293,\n",
       "             (1, 2): 2,\n",
       "             (1, 3): 1,\n",
       "             (2, 0): 1,\n",
       "             (2, 1): 598,\n",
       "             (2, 2): 2,\n",
       "             (2, 3): 7,\n",
       "             (3, 0): 36,\n",
       "             (3, 1): 1,\n",
       "             (3, 3): 28})"
      ]
     },
     "execution_count": 23,
     "metadata": {},
     "output_type": "execute_result"
    }
   ],
   "source": [
    "a"
   ]
  },
  {
   "cell_type": "code",
   "execution_count": 25,
   "metadata": {},
   "outputs": [
    {
     "data": {
      "text/plain": [
       "defaultdict(<function __main__.<lambda>>,\n",
       "            {'1_1': {'accuracy': 0, 'correct': 1, 'wrong': 0},\n",
       "             '1_2': {'accuracy': 0, 'correct': 1, 'wrong': 0},\n",
       "             '1_3': {'accuracy': 0, 'correct': 1, 'wrong': 0}})"
      ]
     },
     "execution_count": 25,
     "metadata": {},
     "output_type": "execute_result"
    }
   ],
   "source": [
    "from collections import defaultdict\n",
    "\n",
    "func = lambda: {'correct':0, 'wrong':0, 'accuracy':0}\n",
    "book = defaultdict(func)\n",
    "\n",
    "book['1_1']['correct'] +=1\n",
    "book['1_2']['correct'] +=1\n",
    "book['1_3']['correct'] +=1\n",
    "book"
   ]
  },
  {
   "cell_type": "code",
   "execution_count": 32,
   "metadata": {},
   "outputs": [
    {
     "data": {
      "text/plain": [
       "{'1_1_accuracy': 0,\n",
       " '1_1_correct': 1,\n",
       " '1_1_wrong': 0,\n",
       " '1_2_accuracy': 0,\n",
       " '1_2_correct': 1,\n",
       " '1_2_wrong': 0,\n",
       " '1_3_accuracy': 0,\n",
       " '1_3_correct': 1,\n",
       " '1_3_wrong': 0}"
      ]
     },
     "execution_count": 32,
     "metadata": {},
     "output_type": "execute_result"
    }
   ],
   "source": [
    "{f'{k}_{k2}': v2 for k, v in book.items() for k2, v2 in v.items()}"
   ]
  },
  {
   "cell_type": "code",
   "execution_count": null,
   "metadata": {},
   "outputs": [],
   "source": []
  }
 ],
 "metadata": {
  "kernelspec": {
   "display_name": "Python 3",
   "language": "python",
   "name": "python3"
  },
  "language_info": {
   "codemirror_mode": {
    "name": "ipython",
    "version": 3
   },
   "file_extension": ".py",
   "mimetype": "text/x-python",
   "name": "python",
   "nbconvert_exporter": "python",
   "pygments_lexer": "ipython3",
   "version": "3.6.4"
  }
 },
 "nbformat": 4,
 "nbformat_minor": 2
}
